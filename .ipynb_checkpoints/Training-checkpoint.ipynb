{
 "cells": [
  {
   "cell_type": "markdown",
   "id": "fc6a5547-8555-4782-adac-841aae5aa6f0",
   "metadata": {
    "tags": []
   },
   "source": [
    "##  NLP Symptom Checker using XG Boost classifier\n",
    "### by Christian Grech"
   ]
  },
  {
   "cell_type": "markdown",
   "id": "13277191-e916-4285-8056-d4844adf40c7",
   "metadata": {},
   "source": [
    "## 1. Import packages and data"
   ]
  },
  {
   "cell_type": "code",
   "execution_count": 68,
   "id": "a59e6459-6104-445a-8910-426f0ba86335",
   "metadata": {},
   "outputs": [
    {
     "name": "stderr",
     "output_type": "stream",
     "text": [
      "[nltk_data] Downloading package stopwords to\n",
      "[nltk_data]     /Users/christiangrech/nltk_data...\n",
      "[nltk_data]   Package stopwords is already up-to-date!\n"
     ]
    }
   ],
   "source": [
    "# Import all libraries\n",
    "import pandas as pd\n",
    "import numpy as np\n",
    "import os\n",
    "os.environ['TF_CPP_MIN_LOG_LEVEL'] = '1' \n",
    "from nltk.corpus import stopwords\n",
    "from unidecode import unidecode\n",
    "from sklearn.model_selection import train_test_split\n",
    "from sklearn.metrics import accuracy_score, balanced_accuracy_score, hamming_loss, classification_report\n",
    "from sklearn.feature_extraction.text import TfidfVectorizer\n",
    "from sklearn.preprocessing import MultiLabelBinarizer\n",
    "from sklearn.multioutput import MultiOutputClassifier\n",
    "from joblib import dump, load\n",
    "from matplotlib import pyplot as plt\n",
    "import nltk\n",
    "nltk.download('stopwords')\n",
    "\n",
    "RANDOM_SEED = 42"
   ]
  },
  {
   "cell_type": "code",
   "execution_count": 4,
   "id": "aee85721-6b17-4ddc-8a5d-39500e670b82",
   "metadata": {},
   "outputs": [],
   "source": [
    "# Import the two datasets\n",
    "df_text = pd.read_csv('user_inputs.csv', sep=';')\n",
    "df_text.rename(columns={'Unnamed: 0':'id'}, inplace=True )\n",
    "df_text['text']=df_text['text'].astype(str)  # Removing unnamed columns and setting data type to string\n",
    "\n",
    "df_tags= pd.read_csv('labels.csv', sep=';')\n",
    "df_tags.rename(columns={'Unnamed: 0':'id'}, inplace=True )\n",
    "df_tags = df_tags.astype(int) # Removing unnamed columns and setting data type to integer"
   ]
  },
  {
   "cell_type": "code",
   "execution_count": 5,
   "id": "abbc901d-3ce8-4f07-b6ab-bfd538c76d4f",
   "metadata": {},
   "outputs": [
    {
     "data": {
      "text/html": [
       "<div>\n",
       "<style scoped>\n",
       "    .dataframe tbody tr th:only-of-type {\n",
       "        vertical-align: middle;\n",
       "    }\n",
       "\n",
       "    .dataframe tbody tr th {\n",
       "        vertical-align: top;\n",
       "    }\n",
       "\n",
       "    .dataframe thead th {\n",
       "        text-align: right;\n",
       "    }\n",
       "</style>\n",
       "<table border=\"1\" class=\"dataframe\">\n",
       "  <thead>\n",
       "    <tr style=\"text-align: right;\">\n",
       "      <th></th>\n",
       "      <th>id</th>\n",
       "      <th>text</th>\n",
       "    </tr>\n",
       "  </thead>\n",
       "  <tbody>\n",
       "    <tr>\n",
       "      <th>0</th>\n",
       "      <td>0</td>\n",
       "      <td>Er is een teek op mijn been. Ik ben bang dat d...</td>\n",
       "    </tr>\n",
       "    <tr>\n",
       "      <th>1</th>\n",
       "      <td>1</td>\n",
       "      <td>Er is een teek op mijn rug en ik krijg hem er ...</td>\n",
       "    </tr>\n",
       "    <tr>\n",
       "      <th>2</th>\n",
       "      <td>2</td>\n",
       "      <td>Op mijn been zit een teek. Ik heb hem geprobee...</td>\n",
       "    </tr>\n",
       "    <tr>\n",
       "      <th>3</th>\n",
       "      <td>3</td>\n",
       "      <td>Ik heb allergieen</td>\n",
       "    </tr>\n",
       "    <tr>\n",
       "      <th>4</th>\n",
       "      <td>4</td>\n",
       "      <td>huid</td>\n",
       "    </tr>\n",
       "  </tbody>\n",
       "</table>\n",
       "</div>"
      ],
      "text/plain": [
       "   id                                               text\n",
       "0   0  Er is een teek op mijn been. Ik ben bang dat d...\n",
       "1   1  Er is een teek op mijn rug en ik krijg hem er ...\n",
       "2   2  Op mijn been zit een teek. Ik heb hem geprobee...\n",
       "3   3                                  Ik heb allergieen\n",
       "4   4                                               huid"
      ]
     },
     "execution_count": 5,
     "metadata": {},
     "output_type": "execute_result"
    }
   ],
   "source": [
    "#print first 5 rows\n",
    "df_text.head()"
   ]
  },
  {
   "cell_type": "code",
   "execution_count": 6,
   "id": "fce8a859-3502-4c69-88a7-693be168e7dc",
   "metadata": {},
   "outputs": [
    {
     "data": {
      "text/html": [
       "<div>\n",
       "<style scoped>\n",
       "    .dataframe tbody tr th:only-of-type {\n",
       "        vertical-align: middle;\n",
       "    }\n",
       "\n",
       "    .dataframe tbody tr th {\n",
       "        vertical-align: top;\n",
       "    }\n",
       "\n",
       "    .dataframe thead th {\n",
       "        text-align: right;\n",
       "    }\n",
       "</style>\n",
       "<table border=\"1\" class=\"dataframe\">\n",
       "  <thead>\n",
       "    <tr style=\"text-align: right;\">\n",
       "      <th></th>\n",
       "      <th>id</th>\n",
       "      <th>Niet lekker voelen, algehele malaise</th>\n",
       "      <th>Beenklachten</th>\n",
       "      <th>Bloedneus</th>\n",
       "      <th>Misselijkheid en overgeven</th>\n",
       "      <th>Brandwond</th>\n",
       "      <th>Buikpijn</th>\n",
       "      <th>Suikerziekte (ontregeld)</th>\n",
       "      <th>Diarree</th>\n",
       "      <th>Duizeligheid</th>\n",
       "      <th>...</th>\n",
       "      <th>Coronavirus</th>\n",
       "      <th>Knieklachten</th>\n",
       "      <th>Liesklachten</th>\n",
       "      <th>Elleboogklachten</th>\n",
       "      <th>Schouderklachten</th>\n",
       "      <th>Oorsuizen</th>\n",
       "      <th>Hand- en polsklachten</th>\n",
       "      <th>Enkelklachten</th>\n",
       "      <th>Dikke enkels of voeten</th>\n",
       "      <th>Vingerklachten</th>\n",
       "    </tr>\n",
       "  </thead>\n",
       "  <tbody>\n",
       "    <tr>\n",
       "      <th>0</th>\n",
       "      <td>0</td>\n",
       "      <td>0</td>\n",
       "      <td>0</td>\n",
       "      <td>0</td>\n",
       "      <td>0</td>\n",
       "      <td>0</td>\n",
       "      <td>0</td>\n",
       "      <td>0</td>\n",
       "      <td>0</td>\n",
       "      <td>0</td>\n",
       "      <td>...</td>\n",
       "      <td>0</td>\n",
       "      <td>0</td>\n",
       "      <td>0</td>\n",
       "      <td>0</td>\n",
       "      <td>0</td>\n",
       "      <td>0</td>\n",
       "      <td>0</td>\n",
       "      <td>0</td>\n",
       "      <td>0</td>\n",
       "      <td>0</td>\n",
       "    </tr>\n",
       "    <tr>\n",
       "      <th>1</th>\n",
       "      <td>1</td>\n",
       "      <td>0</td>\n",
       "      <td>0</td>\n",
       "      <td>0</td>\n",
       "      <td>0</td>\n",
       "      <td>0</td>\n",
       "      <td>0</td>\n",
       "      <td>0</td>\n",
       "      <td>0</td>\n",
       "      <td>0</td>\n",
       "      <td>...</td>\n",
       "      <td>0</td>\n",
       "      <td>0</td>\n",
       "      <td>0</td>\n",
       "      <td>0</td>\n",
       "      <td>0</td>\n",
       "      <td>0</td>\n",
       "      <td>0</td>\n",
       "      <td>0</td>\n",
       "      <td>0</td>\n",
       "      <td>0</td>\n",
       "    </tr>\n",
       "    <tr>\n",
       "      <th>2</th>\n",
       "      <td>2</td>\n",
       "      <td>0</td>\n",
       "      <td>0</td>\n",
       "      <td>0</td>\n",
       "      <td>0</td>\n",
       "      <td>0</td>\n",
       "      <td>0</td>\n",
       "      <td>0</td>\n",
       "      <td>0</td>\n",
       "      <td>0</td>\n",
       "      <td>...</td>\n",
       "      <td>0</td>\n",
       "      <td>0</td>\n",
       "      <td>0</td>\n",
       "      <td>0</td>\n",
       "      <td>0</td>\n",
       "      <td>0</td>\n",
       "      <td>0</td>\n",
       "      <td>0</td>\n",
       "      <td>0</td>\n",
       "      <td>0</td>\n",
       "    </tr>\n",
       "    <tr>\n",
       "      <th>3</th>\n",
       "      <td>3</td>\n",
       "      <td>0</td>\n",
       "      <td>0</td>\n",
       "      <td>0</td>\n",
       "      <td>0</td>\n",
       "      <td>0</td>\n",
       "      <td>0</td>\n",
       "      <td>0</td>\n",
       "      <td>0</td>\n",
       "      <td>0</td>\n",
       "      <td>...</td>\n",
       "      <td>0</td>\n",
       "      <td>0</td>\n",
       "      <td>0</td>\n",
       "      <td>0</td>\n",
       "      <td>0</td>\n",
       "      <td>0</td>\n",
       "      <td>0</td>\n",
       "      <td>0</td>\n",
       "      <td>0</td>\n",
       "      <td>0</td>\n",
       "    </tr>\n",
       "    <tr>\n",
       "      <th>4</th>\n",
       "      <td>4</td>\n",
       "      <td>0</td>\n",
       "      <td>0</td>\n",
       "      <td>0</td>\n",
       "      <td>0</td>\n",
       "      <td>0</td>\n",
       "      <td>0</td>\n",
       "      <td>0</td>\n",
       "      <td>0</td>\n",
       "      <td>0</td>\n",
       "      <td>...</td>\n",
       "      <td>0</td>\n",
       "      <td>0</td>\n",
       "      <td>0</td>\n",
       "      <td>0</td>\n",
       "      <td>0</td>\n",
       "      <td>0</td>\n",
       "      <td>0</td>\n",
       "      <td>0</td>\n",
       "      <td>0</td>\n",
       "      <td>0</td>\n",
       "    </tr>\n",
       "  </tbody>\n",
       "</table>\n",
       "<p>5 rows × 76 columns</p>\n",
       "</div>"
      ],
      "text/plain": [
       "   id  Niet lekker voelen, algehele malaise  Beenklachten  Bloedneus  \\\n",
       "0   0                                     0             0          0   \n",
       "1   1                                     0             0          0   \n",
       "2   2                                     0             0          0   \n",
       "3   3                                     0             0          0   \n",
       "4   4                                     0             0          0   \n",
       "\n",
       "   Misselijkheid en overgeven  Brandwond  Buikpijn  Suikerziekte (ontregeld)  \\\n",
       "0                           0          0         0                         0   \n",
       "1                           0          0         0                         0   \n",
       "2                           0          0         0                         0   \n",
       "3                           0          0         0                         0   \n",
       "4                           0          0         0                         0   \n",
       "\n",
       "   Diarree  Duizeligheid  ...  Coronavirus  Knieklachten  Liesklachten  \\\n",
       "0        0             0  ...            0             0             0   \n",
       "1        0             0  ...            0             0             0   \n",
       "2        0             0  ...            0             0             0   \n",
       "3        0             0  ...            0             0             0   \n",
       "4        0             0  ...            0             0             0   \n",
       "\n",
       "   Elleboogklachten  Schouderklachten  Oorsuizen  Hand- en polsklachten  \\\n",
       "0                 0                 0          0                      0   \n",
       "1                 0                 0          0                      0   \n",
       "2                 0                 0          0                      0   \n",
       "3                 0                 0          0                      0   \n",
       "4                 0                 0          0                      0   \n",
       "\n",
       "   Enkelklachten  Dikke enkels of voeten  Vingerklachten  \n",
       "0              0                       0               0  \n",
       "1              0                       0               0  \n",
       "2              0                       0               0  \n",
       "3              0                       0               0  \n",
       "4              0                       0               0  \n",
       "\n",
       "[5 rows x 76 columns]"
      ]
     },
     "execution_count": 6,
     "metadata": {},
     "output_type": "execute_result"
    }
   ],
   "source": [
    "#print first 5 rows\n",
    "df_tags.head()"
   ]
  },
  {
   "cell_type": "markdown",
   "id": "45c2d670-66ba-41bc-b7f4-c3a7f15b7df3",
   "metadata": {},
   "source": [
    "## 2. Pre-process the data"
   ]
  },
  {
   "cell_type": "code",
   "execution_count": 7,
   "id": "0b3724f3-7e0e-4513-81e7-bc0d840c37fe",
   "metadata": {},
   "outputs": [],
   "source": [
    "# Defining the stopwords to remove from the input text\n",
    "stop_words = stopwords.words('dutch')"
   ]
  },
  {
   "cell_type": "code",
   "execution_count": 8,
   "id": "44d8c978-b3f9-4e2f-925a-aaaca05adfea",
   "metadata": {},
   "outputs": [],
   "source": [
    "# Preprocessing text function\n",
    "def clean_text(df):\n",
    "    regex_rules = {\n",
    "        # remove linebreaks\n",
    "        r'\\n': ' ', \n",
    "        # remove return characters\n",
    "        r'\\r': ' ',  \n",
    "        # remove postal code\n",
    "        r'(?<!\\d)\\d{4}\\s?[a-zA-Z]{2}(?![a-zA-Z])': '', \n",
    "        # remove email\n",
    "        r'([a-zA-Z0-9_\\-\\.]+)@([a-zA-Z0-9_\\-\\.]+)\\.([a-zA-Z]{2,5})': '',\n",
    "        # remove phone numbers \n",
    "        r'((\\+|00(\\s|\\s?\\-\\s?)?)31(\\s|\\s?\\-\\s?)?(\\(0\\)[\\-\\s]?)?|0)[1-9]((\\s|\\s?\\-\\s?)?[0-9])((\\s|\\s?-\\s?)?[0-9])((\\s|\\s?-\\s?)?[0-9])\\s?[0-9]\\s?[0-9]\\s?[0-9]\\s?[0-9]\\s?[0-9]': '', \n",
    "        # Remove bank account info\n",
    "        r'[a-zA-Z]{2}[\\s.-]*[0-9]{2}[\\s.-]*[a-zA-Z]{4}[\\s.-]*[0-9]{2}[\\s.-]*[0-9]{2}[\\s.-]*[0-9]{2}[\\s.-]*[0-9]{2}[\\s.-]*[0-9]{2}[\\s.-]*': ' ', \n",
    "        # remove URLs\n",
    "        r'http\\S+': '', \n",
    "        # remove .,;:-/ if not between digits\n",
    "        r'(?<!\\d)[.,;:\\-/](?!\\d)': ' ', \n",
    "        # remove remaining symbols\n",
    "        r'[!?#$%&\\'()*\\+<=>@\\\\^_`{|}~\"\\[\\]]': ' ', \n",
    "        # remove dates (day-month-year)\n",
    "        r'[0-9]{1,2}[-/\\s]([0-9]{1,2}|januari|februari|maart|april|juni|juli|augustus|september|oktober|november|december|jan|feb|mar|mrt|apr|mei|jun|jul|aug|sep|sept|okt|nov|dec)([-/\\s][0-9]{2,4})?': ' ', \n",
    "        # remove any non-alphabetic characters\n",
    "        r'[^a-zA-Z]': ' ', \n",
    "        # replace multiple spaces by one\n",
    "        r'\\s+': ' ', \n",
    "    }\n",
    "\n",
    "    stopword_pattern = {'|'.join([r'\\b{}\\b'.format(w) for w in stop_words]): ''}\n",
    "\n",
    "    return (df\n",
    "        # convert to lowercase\n",
    "        .assign(text_cleaned=lambda df_: df_.text.str.lower()) \n",
    "        # remove accents from letters and remove any non-ascii characters\n",
    "        .assign(text_cleaned=lambda df_: \n",
    "                  df_.text_cleaned.apply(lambda x: unidecode(x)))\n",
    "        # remove stopwords\n",
    "        .assign(text_cleaned=lambda df_: \n",
    "                  df_.text_cleaned.replace(stopword_pattern, regex=True))\n",
    "        # use regex rules to replace text that we are not interested in\n",
    "        .assign(text_cleaned=lambda df_: \n",
    "                  df_.text_cleaned.replace(regex_rules, regex=True))\n",
    "        )"
   ]
  },
  {
   "cell_type": "code",
   "execution_count": 13,
   "id": "15bd2873-5a55-4153-b562-f7d2fa98f7d4",
   "metadata": {},
   "outputs": [
    {
     "data": {
      "text/plain": [
       "'Hallo, Op mijn handen heb ik puntjes op de vingers. Sommige zn meer bultjes. Op mijn handpalm heb ik ook plek. Dit lijkt ook wel op een soort uitslag. Sommige kan ik wegdrukken en andere niet. Het is gevoelig/pijnlijk en jeukt en bij andere voel ik niks. Foto uploaden lukt niet.'"
      ]
     },
     "execution_count": 13,
     "metadata": {},
     "output_type": "execute_result"
    }
   ],
   "source": [
    "# clean the text \n",
    "df_text = clean_text(df_text)\n",
    "# Example of original text\n",
    "df_text['text'][100]"
   ]
  },
  {
   "cell_type": "code",
   "execution_count": 14,
   "id": "288ab3d4-dc06-44ad-bac1-ca5d82fd898d",
   "metadata": {},
   "outputs": [
    {
     "data": {
      "text/plain": [
       "'hallo handen puntjes vingers sommige zn bultjes handpalm plek lijkt wel soort uitslag sommige wegdrukken gevoelig pijnlijk jeukt voel niks foto uploaden lukt '"
      ]
     },
     "execution_count": 14,
     "metadata": {},
     "output_type": "execute_result"
    }
   ],
   "source": [
    "# Clean version\n",
    "df_text['text_cleaned'][100]"
   ]
  },
  {
   "cell_type": "code",
   "execution_count": 15,
   "id": "5820963a-c996-408c-895f-ce089a7a8db6",
   "metadata": {},
   "outputs": [
    {
     "data": {
      "text/plain": [
       "id                                                  7894351\n",
       "Huidklachten                                            353\n",
       "Beenklachten                                            289\n",
       "Buikpijn                                                247\n",
       "Oorklachten                                             210\n",
       "Misselijkheid en overgeven                              148\n",
       "Neurologische uitval, klachten van de zenuwbanen        134\n",
       "Rugpijn                                                 133\n",
       "Geslachtsorgaanklachten                                 126\n",
       "Pijn op de borst of pijn in de borstkas                 125\n",
       "dtype: int64"
      ]
     },
     "execution_count": 15,
     "metadata": {},
     "output_type": "execute_result"
    }
   ],
   "source": [
    "# Check the most occuring tags\n",
    "df_tags.sum().sort_values(ascending=False).head(10)"
   ]
  },
  {
   "cell_type": "markdown",
   "id": "9797e26a-89bb-4b3a-987c-39042bfea337",
   "metadata": {},
   "source": [
    "Merge the 'text' and 'tags' dataframe on the id column to create a single dataframe."
   ]
  },
  {
   "cell_type": "code",
   "execution_count": 16,
   "id": "f96ee2ab-b24a-4b25-a47c-94c0dce493dc",
   "metadata": {},
   "outputs": [
    {
     "data": {
      "text/html": [
       "<div>\n",
       "<style scoped>\n",
       "    .dataframe tbody tr th:only-of-type {\n",
       "        vertical-align: middle;\n",
       "    }\n",
       "\n",
       "    .dataframe tbody tr th {\n",
       "        vertical-align: top;\n",
       "    }\n",
       "\n",
       "    .dataframe thead th {\n",
       "        text-align: right;\n",
       "    }\n",
       "</style>\n",
       "<table border=\"1\" class=\"dataframe\">\n",
       "  <thead>\n",
       "    <tr style=\"text-align: right;\">\n",
       "      <th></th>\n",
       "      <th>text_cleaned</th>\n",
       "      <th>Niet lekker voelen, algehele malaise</th>\n",
       "      <th>Beenklachten</th>\n",
       "      <th>Bloedneus</th>\n",
       "      <th>Misselijkheid en overgeven</th>\n",
       "      <th>Brandwond</th>\n",
       "      <th>Buikpijn</th>\n",
       "      <th>Suikerziekte (ontregeld)</th>\n",
       "      <th>Diarree</th>\n",
       "      <th>Duizeligheid</th>\n",
       "      <th>...</th>\n",
       "      <th>Coronavirus</th>\n",
       "      <th>Knieklachten</th>\n",
       "      <th>Liesklachten</th>\n",
       "      <th>Elleboogklachten</th>\n",
       "      <th>Schouderklachten</th>\n",
       "      <th>Oorsuizen</th>\n",
       "      <th>Hand- en polsklachten</th>\n",
       "      <th>Enkelklachten</th>\n",
       "      <th>Dikke enkels of voeten</th>\n",
       "      <th>Vingerklachten</th>\n",
       "    </tr>\n",
       "  </thead>\n",
       "  <tbody>\n",
       "    <tr>\n",
       "      <th>0</th>\n",
       "      <td>teek been bang tijdje gezeten</td>\n",
       "      <td>0</td>\n",
       "      <td>0</td>\n",
       "      <td>0</td>\n",
       "      <td>0</td>\n",
       "      <td>0</td>\n",
       "      <td>0</td>\n",
       "      <td>0</td>\n",
       "      <td>0</td>\n",
       "      <td>0</td>\n",
       "      <td>...</td>\n",
       "      <td>0</td>\n",
       "      <td>0</td>\n",
       "      <td>0</td>\n",
       "      <td>0</td>\n",
       "      <td>0</td>\n",
       "      <td>0</td>\n",
       "      <td>0</td>\n",
       "      <td>0</td>\n",
       "      <td>0</td>\n",
       "      <td>0</td>\n",
       "    </tr>\n",
       "    <tr>\n",
       "      <th>1</th>\n",
       "      <td>teek rug krijg af</td>\n",
       "      <td>0</td>\n",
       "      <td>0</td>\n",
       "      <td>0</td>\n",
       "      <td>0</td>\n",
       "      <td>0</td>\n",
       "      <td>0</td>\n",
       "      <td>0</td>\n",
       "      <td>0</td>\n",
       "      <td>0</td>\n",
       "      <td>...</td>\n",
       "      <td>0</td>\n",
       "      <td>0</td>\n",
       "      <td>0</td>\n",
       "      <td>0</td>\n",
       "      <td>0</td>\n",
       "      <td>0</td>\n",
       "      <td>0</td>\n",
       "      <td>0</td>\n",
       "      <td>0</td>\n",
       "      <td>0</td>\n",
       "    </tr>\n",
       "    <tr>\n",
       "      <th>2</th>\n",
       "      <td>been zit teek geprobeerd verwijderen lukt</td>\n",
       "      <td>0</td>\n",
       "      <td>0</td>\n",
       "      <td>0</td>\n",
       "      <td>0</td>\n",
       "      <td>0</td>\n",
       "      <td>0</td>\n",
       "      <td>0</td>\n",
       "      <td>0</td>\n",
       "      <td>0</td>\n",
       "      <td>...</td>\n",
       "      <td>0</td>\n",
       "      <td>0</td>\n",
       "      <td>0</td>\n",
       "      <td>0</td>\n",
       "      <td>0</td>\n",
       "      <td>0</td>\n",
       "      <td>0</td>\n",
       "      <td>0</td>\n",
       "      <td>0</td>\n",
       "      <td>0</td>\n",
       "    </tr>\n",
       "    <tr>\n",
       "      <th>3</th>\n",
       "      <td>allergieen</td>\n",
       "      <td>0</td>\n",
       "      <td>0</td>\n",
       "      <td>0</td>\n",
       "      <td>0</td>\n",
       "      <td>0</td>\n",
       "      <td>0</td>\n",
       "      <td>0</td>\n",
       "      <td>0</td>\n",
       "      <td>0</td>\n",
       "      <td>...</td>\n",
       "      <td>0</td>\n",
       "      <td>0</td>\n",
       "      <td>0</td>\n",
       "      <td>0</td>\n",
       "      <td>0</td>\n",
       "      <td>0</td>\n",
       "      <td>0</td>\n",
       "      <td>0</td>\n",
       "      <td>0</td>\n",
       "      <td>0</td>\n",
       "    </tr>\n",
       "    <tr>\n",
       "      <th>4</th>\n",
       "      <td>huid</td>\n",
       "      <td>0</td>\n",
       "      <td>0</td>\n",
       "      <td>0</td>\n",
       "      <td>0</td>\n",
       "      <td>0</td>\n",
       "      <td>0</td>\n",
       "      <td>0</td>\n",
       "      <td>0</td>\n",
       "      <td>0</td>\n",
       "      <td>...</td>\n",
       "      <td>0</td>\n",
       "      <td>0</td>\n",
       "      <td>0</td>\n",
       "      <td>0</td>\n",
       "      <td>0</td>\n",
       "      <td>0</td>\n",
       "      <td>0</td>\n",
       "      <td>0</td>\n",
       "      <td>0</td>\n",
       "      <td>0</td>\n",
       "    </tr>\n",
       "  </tbody>\n",
       "</table>\n",
       "<p>5 rows × 76 columns</p>\n",
       "</div>"
      ],
      "text/plain": [
       "                                  text_cleaned  \\\n",
       "0                teek been bang tijdje gezeten   \n",
       "1                            teek rug krijg af   \n",
       "2   been zit teek geprobeerd verwijderen lukt    \n",
       "3                                   allergieen   \n",
       "4                                         huid   \n",
       "\n",
       "   Niet lekker voelen, algehele malaise  Beenklachten  Bloedneus  \\\n",
       "0                                     0             0          0   \n",
       "1                                     0             0          0   \n",
       "2                                     0             0          0   \n",
       "3                                     0             0          0   \n",
       "4                                     0             0          0   \n",
       "\n",
       "   Misselijkheid en overgeven  Brandwond  Buikpijn  Suikerziekte (ontregeld)  \\\n",
       "0                           0          0         0                         0   \n",
       "1                           0          0         0                         0   \n",
       "2                           0          0         0                         0   \n",
       "3                           0          0         0                         0   \n",
       "4                           0          0         0                         0   \n",
       "\n",
       "   Diarree  Duizeligheid  ...  Coronavirus  Knieklachten  Liesklachten  \\\n",
       "0        0             0  ...            0             0             0   \n",
       "1        0             0  ...            0             0             0   \n",
       "2        0             0  ...            0             0             0   \n",
       "3        0             0  ...            0             0             0   \n",
       "4        0             0  ...            0             0             0   \n",
       "\n",
       "   Elleboogklachten  Schouderklachten  Oorsuizen  Hand- en polsklachten  \\\n",
       "0                 0                 0          0                      0   \n",
       "1                 0                 0          0                      0   \n",
       "2                 0                 0          0                      0   \n",
       "3                 0                 0          0                      0   \n",
       "4                 0                 0          0                      0   \n",
       "\n",
       "   Enkelklachten  Dikke enkels of voeten  Vingerklachten  \n",
       "0              0                       0               0  \n",
       "1              0                       0               0  \n",
       "2              0                       0               0  \n",
       "3              0                       0               0  \n",
       "4              0                       0               0  \n",
       "\n",
       "[5 rows x 76 columns]"
      ]
     },
     "execution_count": 16,
     "metadata": {},
     "output_type": "execute_result"
    }
   ],
   "source": [
    "df = pd.merge(df_text,df_tags,how='inner',on='id')\n",
    "# Retain only the columns we will use for training the model - Tags will be the label\n",
    "df = df.drop(columns=['id', 'text'])\n",
    "df.head()"
   ]
  },
  {
   "cell_type": "code",
   "execution_count": 17,
   "id": "5a6ef499-5770-432c-b1de-9d422aae1c33",
   "metadata": {},
   "outputs": [],
   "source": [
    "# Encode the tags(labels) in a binary format in order to be used for training\n",
    "mlb = MultiLabelBinarizer()\n",
    "df_target = df.drop(columns=['text_cleaned', 'No complaint'])  # The 'No complaint' class has no entries so it will be dropped\n",
    "df_target.columns = df_target.columns.str.replace(\",\", \"\", regex=True) # Remove commas from the class names\n",
    "df_target['labels'] = df_target.dot(df_target.columns+',').str[:-1].str.split(',') # In case of multiple complaints, these are joined by a comma\n",
    "x = df['text_cleaned'] # This will be the input to the model\n",
    "yt = mlb.fit_transform(df_target['labels']) # This is the target output of the model"
   ]
  },
  {
   "cell_type": "code",
   "execution_count": 146,
   "id": "cf35dcd9-324b-4bee-86c9-d3406c036860",
   "metadata": {},
   "outputs": [
    {
     "name": "stdout",
     "output_type": "stream",
     "text": [
      "Model output:  [0 0 0 0 0 0 0 0 0 0 0 0 0 0 0 0 0 0 0 0 0 0 0 0 1 0 0 0 0 0 0 0 0 0 0 0 0\n",
      " 0 0 1 0 0 0 0 0 0 0 0 0 0 0 0 0 0 0 0 0 0 0 0 0 0 0 0 0 0 0 0 0 0 0 0 0 0]\n",
      "Output after transformation:  [('Hoofdpijn', 'Oogklachten of beschadigingen aan het oog')]\n",
      "Classes: 74\n"
     ]
    }
   ],
   "source": [
    "# Getting a sense of how the tags data looks like. Change the index number below to see a different case\n",
    "idx = 36\n",
    "print('Model output: ', yt[idx]) # This is the output of the model\n",
    "print('Output after transformation: ', mlb.inverse_transform(yt[idx].reshape(1,-1))) # This is how the output is then transformed to the user\n",
    "# Calculate the number of classes in total\n",
    "print('Classes:', len(mlb.classes_))"
   ]
  },
  {
   "cell_type": "markdown",
   "id": "9ea6074f-e9de-4572-b4a4-25ea7714ad13",
   "metadata": {},
   "source": [
    "View the distribution of word count/question to decide the max length for Text that will be used for modelling"
   ]
  },
  {
   "cell_type": "code",
   "execution_count": 38,
   "id": "5ca72aca-2314-4291-b251-f798b9b448a6",
   "metadata": {},
   "outputs": [
    {
     "data": {
      "image/png": "[encoded data removed]",
      "text/plain": [
       "<Figure size 800x200 with 1 Axes>"
      ]
     },
     "metadata": {},
     "output_type": "display_data"
    }
   ],
   "source": [
    "# compute no. of words in each text\n",
    "#x = x.str[:1000]\n",
    "word_cnt = [len(quest.split()) for quest in x]\n",
    "\n",
    "# Plot the distribution\n",
    "plt.figure(figsize=[8,2])\n",
    "plt.hist(word_cnt, bins = 20)\n",
    "plt.xlabel('Word Count')\n",
    "plt.ylabel('# of Occurences')\n",
    "plt.title(\"Frequency of Word Counts/sentence\")\n",
    "plt.show()"
   ]
  },
  {
   "cell_type": "code",
   "execution_count": 63,
   "id": "c21fdd1d-d925-4e81-a441-e83a1b3a1b50",
   "metadata": {},
   "outputs": [
    {
     "data": {
      "text/plain": [
       "array(['aangereden', 'aangezien', 'aanraak', ..., 'zwelling', 'zwembad',\n",
       "       'zweten'], dtype=object)"
      ]
     },
     "execution_count": 63,
     "metadata": {},
     "output_type": "execute_result"
    }
   ],
   "source": [
    "# defining the tf-idf vectorizer.\n",
    "vectorizer = TfidfVectorizer(\n",
    "    strip_accents='unicode',\n",
    "    stop_words=stop_words,\n",
    "    lowercase=True,\n",
    "    max_df=0.95,\n",
    "    min_df=0.001,\n",
    "    use_idf=True,\n",
    ")\n",
    "vectorizer.fit(x)\n",
    "vectorizer.get_feature_names_out()"
   ]
  },
  {
   "cell_type": "markdown",
   "id": "2abd4b84-db85-4068-8f82-f62411a76968",
   "metadata": {},
   "source": [
    "## 3. Split the dataset into training ,validation and test set."
   ]
  },
  {
   "cell_type": "code",
   "execution_count": 64,
   "id": "53bbf06e-f469-46f9-be24-bf71c2eab2c6",
   "metadata": {},
   "outputs": [
    {
     "name": "stdout",
     "output_type": "stream",
     "text": [
      "Train dataset length: 3576 Test dataset length: 398\n"
     ]
    }
   ],
   "source": [
    "# First Split for Train and Test\n",
    "x_train,x_test,y_train,y_test = train_test_split(x, yt, test_size=0.1, random_state=RANDOM_SEED,shuffle=True)\n",
    "print('Train dataset length:', len(x_train), 'Test dataset length:', len(x_test))"
   ]
  },
  {
   "cell_type": "code",
   "execution_count": 65,
   "id": "c7fa4b96-7ae6-4775-968a-49c03c0b5fb7",
   "metadata": {},
   "outputs": [],
   "source": [
    "# Vectorization\n",
    "x_tr_tfidf = vectorizer.transform(x_train)\n",
    "x_test_tfidf = vectorizer.transform(x_test)"
   ]
  },
  {
   "cell_type": "code",
   "execution_count": 147,
   "id": "21963d8e-cf61-4800-b843-4735b86f297c",
   "metadata": {},
   "outputs": [],
   "source": [
    "from sklearn.multioutput import MultiOutputClassifier\n",
    "from sklearn.ensemble import RandomForestClassifier\n",
    "from sklearn.neighbors import KNeighborsClassifier\n",
    "from xgboost import XGBClassifier\n",
    "#clf = MultiOutputClassifier(RandomForestClassifier()).fit(x_tr_tfidf, y_train)\n",
    "#model = XGBClassifier(tree_method=\"exact\", seed=27)\n",
    "#clf = MultiOutputClassifier(model, n_jobs=2).fit(x_tr_tfidf, y_train)\n",
    "\n",
    "clf = XGBClassifier(tree_method=\"hist\", seed=27).fit(x_tr_tfidf, y_train)\n",
    "#clf = RandomForestClassifier().fit(x_tr_tfidf, y_tr)\n",
    "\n",
    "\n",
    "prediction = clf.predict(x_test_tfidf)\n"
   ]
  },
  {
   "cell_type": "markdown",
   "id": "971e308a-224c-4b63-b4f5-e1dd45622881",
   "metadata": {},
   "source": [
    "## 4. Model Evaluation"
   ]
  },
  {
   "cell_type": "code",
   "execution_count": 148,
   "id": "b0fd3475-b298-4910-b6d5-ab2dd6fc1361",
   "metadata": {},
   "outputs": [
    {
     "name": "stdout",
     "output_type": "stream",
     "text": [
      "Accuracy Score:  0.29\n",
      "Hamming Loss:  0.01\n"
     ]
    }
   ],
   "source": [
    "print('Accuracy Score: ', round(accuracy_score(y_test, prediction),2))\n",
    "print('Hamming Loss: ', round(hamming_loss(y_test, prediction),2))"
   ]
  },
  {
   "cell_type": "markdown",
   "id": "c71a4d1d-05ef-426d-ba98-edb19e371175",
   "metadata": {},
   "source": [
    "The accuracy score result is around 0.3, which shows that the model could predict the exact label combination less than 30% of the time. However, the accuracy score contains weaknesses for a multilabel prediction evaluation. The accuracy score would need each complaint to have all the labels present in the exact position, or it would be considered wrong."
   ]
  },
  {
   "cell_type": "markdown",
   "id": "79dcce01-fd0a-46de-b4f0-124839f0279f",
   "metadata": {},
   "source": [
    "To mitigate this problem, we must evaluate the label prediction rather than their label combination. In this case, we can rely on **Hamming Loss evaluation metric**. Hamming Loss is calculated by taking a fraction of the wrong prediction with the total number of labels. Because Hamming Loss is a loss function, the lower the score is, the better (0 indicates no wrong prediction and 1 indicates all the prediction is wrong). The Multilabel Classifier Hamming Loss model is 0.01, which means that our model would have a wrong prediction 1% of the time independently. This means each label prediction might be wrong 1% of the time."
   ]
  },
  {
   "cell_type": "code",
   "execution_count": 150,
   "id": "78849495-33e8-4344-91bb-08ca01411503",
   "metadata": {},
   "outputs": [
    {
     "name": "stdout",
     "output_type": "stream",
     "text": [
      "Prediction:  [('Ouderdomswrat',)] \t Actual:   [('Ouderdomswrat',)]\n",
      "Prediction:  [()] \t Actual:   [('Flauwvallen wegraking',)]\n",
      "Prediction:  [('Urinewegproblemen',)] \t Actual:   [('Urinewegproblemen',)]\n",
      "Prediction:  [('Misselijkheid en overgeven',)] \t Actual:   [('Misselijkheid en overgeven',)]\n",
      "Prediction:  [('Wonden of bijtwonden',)] \t Actual:   [('Wonden of bijtwonden',)]\n",
      "Prediction:  [('Kortademigheid',)] \t Actual:   [('Kortademigheid',)]\n",
      "Prediction:  [('Huidklachten',)] \t Actual:   [('Huidklachten', 'Tekenbeet')]\n",
      "Prediction:  [()] \t Actual:   [('Vaginaal bloedverlies',)]\n",
      "Prediction:  [()] \t Actual:   [('Verwonding aan de nek',)]\n",
      "Prediction:  [('Beenklachten',)] \t Actual:   [('Beenklachten', 'Neurologische uitval klachten van de zenuwbanen', 'Suikerziekte (ontregeld)')]\n",
      "Prediction:  [()] \t Actual:   [('Hoofdpijn',)]\n",
      "Prediction:  [()] \t Actual:   [('Geslachtsorgaanklachten',)]\n",
      "Prediction:  [()] \t Actual:   [('Duizeligheid',)]\n",
      "Prediction:  [('Vaginaal bloedverlies',)] \t Actual:   [('Zwangerschap en bevalling',)]\n",
      "Prediction:  [()] \t Actual:   [('Kortademigheid',)]\n",
      "Prediction:  [('Oorklachten',)] \t Actual:   [('Oorklachten', 'Slechter horen')]\n",
      "Prediction:  [('Wonden of bijtwonden',)] \t Actual:   [('Wonden of bijtwonden',)]\n",
      "Prediction:  [('Beenklachten',)] \t Actual:   [('Beenklachten',)]\n",
      "Prediction:  [()] \t Actual:   [('Hoesten',)]\n",
      "Prediction:  [('Kortademigheid',)] \t Actual:   [('Kortademigheid',)]\n"
     ]
    }
   ],
   "source": [
    "for pred, tar in zip(prediction[90:110], y_test[90:110]):\n",
    "    print('Prediction: ', mlb.inverse_transform(pred.reshape(1,-1)), '\\t Actual:  ', mlb.inverse_transform(tar.reshape(1,-1)))"
   ]
  },
  {
   "cell_type": "code",
   "execution_count": 142,
   "id": "0d7e678f-cafb-4162-9c87-39c297e5bbb9",
   "metadata": {},
   "outputs": [],
   "source": [
    "# Train the model on the whole dataset for production\n",
    "x_tfidf = vectorizer.transform(x)\n",
    "clf = XGBClassifier(tree_method=\"hist\", seed=27).fit(x_tfidf, yt)"
   ]
  },
  {
   "cell_type": "markdown",
   "id": "ca1ff88a-b8a1-4c75-8fac-9d89fcd22ebc",
   "metadata": {},
   "source": [
    "## 5. Export artifacts"
   ]
  },
  {
   "cell_type": "code",
   "execution_count": 143,
   "id": "3b077afa-f72e-46a5-ab5f-a7572203dc91",
   "metadata": {},
   "outputs": [
    {
     "data": {
      "text/plain": [
       "['artifacts/mlb.pkl']"
      ]
     },
     "execution_count": 143,
     "metadata": {},
     "output_type": "execute_result"
    }
   ],
   "source": [
    "dump(clf, 'artifacts/clf.joblib')\n",
    "dump(vectorizer, 'artifacts/vectorizer.pkl', compress=True)\n",
    "dump(mlb, 'artifacts/mlb.pkl', compress=True)"
   ]
  },
  {
   "cell_type": "markdown",
   "id": "f4ea7c9a-ea63-4b7e-aed2-c83e5f2a8af8",
   "metadata": {},
   "source": [
    "Check the README.md file for information on the API and deployment"
   ]
  },
  {
   "cell_type": "code",
   "execution_count": null,
   "id": "927e1492-32b5-4855-a96a-49d3a47d4a6c",
   "metadata": {},
   "outputs": [],
   "source": []
  }
 ],
 "metadata": {
  "kernelspec": {
   "display_name": "Python 3 (ipykernel)",
   "language": "python",
   "name": "python3"
  },
  "language_info": {
   "codemirror_mode": {
    "name": "ipython",
    "version": 3
   },
   "file_extension": ".py",
   "mimetype": "text/x-python",
   "name": "python",
   "nbconvert_exporter": "python",
   "pygments_lexer": "ipython3",
   "version": "3.8.13"
  }
 },
 "nbformat": 4,
 "nbformat_minor": 5
}
